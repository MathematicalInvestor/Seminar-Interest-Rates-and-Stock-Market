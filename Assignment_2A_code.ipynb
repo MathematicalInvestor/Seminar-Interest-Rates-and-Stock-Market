{
 "cells": [
  {
   "cell_type": "markdown",
   "metadata": {},
   "source": [
    "# Assignment 2A"
   ]
  },
  {
   "cell_type": "code",
   "execution_count": 1,
   "metadata": {},
   "outputs": [],
   "source": [
    "# Importing Necessary libraries\n",
    "import pandas as pd\n",
    "import numpy as np\n",
    "import matplotlib.pyplot as plt\n",
    "import cvxpy as cp"
   ]
  },
  {
   "cell_type": "code",
   "execution_count": 2,
   "metadata": {},
   "outputs": [
    {
     "data": {
      "text/html": [
       "<div>\n",
       "<style scoped>\n",
       "    .dataframe tbody tr th:only-of-type {\n",
       "        vertical-align: middle;\n",
       "    }\n",
       "\n",
       "    .dataframe tbody tr th {\n",
       "        vertical-align: top;\n",
       "    }\n",
       "\n",
       "    .dataframe thead th {\n",
       "        text-align: right;\n",
       "    }\n",
       "</style>\n",
       "<table border=\"1\" class=\"dataframe\">\n",
       "  <thead>\n",
       "    <tr style=\"text-align: right;\">\n",
       "      <th></th>\n",
       "      <th>AAPL</th>\n",
       "      <th>DIS</th>\n",
       "      <th>GE</th>\n",
       "      <th>GS</th>\n",
       "      <th>MSFT</th>\n",
       "    </tr>\n",
       "  </thead>\n",
       "  <tbody>\n",
       "    <tr>\n",
       "      <th>count</th>\n",
       "      <td>5787.000000</td>\n",
       "      <td>5787.000000</td>\n",
       "      <td>5787.000000</td>\n",
       "      <td>5787.000000</td>\n",
       "      <td>5787.000000</td>\n",
       "    </tr>\n",
       "    <tr>\n",
       "      <th>mean</th>\n",
       "      <td>0.001213</td>\n",
       "      <td>0.000422</td>\n",
       "      <td>0.000059</td>\n",
       "      <td>0.000540</td>\n",
       "      <td>0.000513</td>\n",
       "    </tr>\n",
       "    <tr>\n",
       "      <th>std</th>\n",
       "      <td>0.025148</td>\n",
       "      <td>0.019490</td>\n",
       "      <td>0.021196</td>\n",
       "      <td>0.023153</td>\n",
       "      <td>0.019388</td>\n",
       "    </tr>\n",
       "    <tr>\n",
       "      <th>min</th>\n",
       "      <td>-0.518691</td>\n",
       "      <td>-0.183630</td>\n",
       "      <td>-0.151592</td>\n",
       "      <td>-0.189596</td>\n",
       "      <td>-0.155978</td>\n",
       "    </tr>\n",
       "    <tr>\n",
       "      <th>25%</th>\n",
       "      <td>-0.010370</td>\n",
       "      <td>-0.008772</td>\n",
       "      <td>-0.008820</td>\n",
       "      <td>-0.010168</td>\n",
       "      <td>-0.008268</td>\n",
       "    </tr>\n",
       "    <tr>\n",
       "      <th>50%</th>\n",
       "      <td>0.000872</td>\n",
       "      <td>0.000289</td>\n",
       "      <td>0.000000</td>\n",
       "      <td>0.000307</td>\n",
       "      <td>0.000347</td>\n",
       "    </tr>\n",
       "    <tr>\n",
       "      <th>75%</th>\n",
       "      <td>0.013145</td>\n",
       "      <td>0.009135</td>\n",
       "      <td>0.008968</td>\n",
       "      <td>0.011173</td>\n",
       "      <td>0.009376</td>\n",
       "    </tr>\n",
       "    <tr>\n",
       "      <th>max</th>\n",
       "      <td>0.139050</td>\n",
       "      <td>0.159722</td>\n",
       "      <td>0.197031</td>\n",
       "      <td>0.264678</td>\n",
       "      <td>0.195652</td>\n",
       "    </tr>\n",
       "  </tbody>\n",
       "</table>\n",
       "</div>"
      ],
      "text/plain": [
       "              AAPL          DIS           GE           GS         MSFT\n",
       "count  5787.000000  5787.000000  5787.000000  5787.000000  5787.000000\n",
       "mean      0.001213     0.000422     0.000059     0.000540     0.000513\n",
       "std       0.025148     0.019490     0.021196     0.023153     0.019388\n",
       "min      -0.518691    -0.183630    -0.151592    -0.189596    -0.155978\n",
       "25%      -0.010370    -0.008772    -0.008820    -0.010168    -0.008268\n",
       "50%       0.000872     0.000289     0.000000     0.000307     0.000347\n",
       "75%       0.013145     0.009135     0.008968     0.011173     0.009376\n",
       "max       0.139050     0.159722     0.197031     0.264678     0.195652"
      ]
     },
     "execution_count": 2,
     "metadata": {},
     "output_type": "execute_result"
    }
   ],
   "source": [
    "# Importing Data\n",
    "returns = pd.read_excel('Data_2A_2023.xlsx',index_col='Date') / 100\n",
    "returns.describe()"
   ]
  },
  {
   "cell_type": "code",
   "execution_count": 3,
   "metadata": {},
   "outputs": [],
   "source": [
    "# Train, Test Split\n",
    "train_set = returns[:\"2015\"]\n",
    "test_set = returns[\"2016\":]\n",
    "\n",
    "# Estimate parameters\n",
    "average_return = train_set.mean()\n",
    "covariance_matrix = train_set.cov(ddof=0)"
   ]
  },
  {
   "cell_type": "code",
   "execution_count": 4,
   "metadata": {},
   "outputs": [],
   "source": [
    "def optimize_portfolio(expected_returns, cov_matrix, required_return):\n",
    "    \"\"\"\n",
    "    Optimizes the vector of portfolio weights according to the first optimization problem in Assignment 2A\n",
    "    \"\"\"\n",
    "    # Define Decision variables\n",
    "    num_assets = len(expected_returns)\n",
    "    weights = cp.Variable(num_assets, nonneg=False)\n",
    "    \n",
    "    # Compute Performance Metrics\n",
    "    portfolio_return = cp.matmul(weights, expected_returns)\n",
    "    portfolio_variance = cp.quad_form(weights, cov_matrix)\n",
    "    \n",
    "    # Set up formulation\n",
    "    constraints = [cp.sum(weights) == 1, portfolio_return == required_return]\n",
    "    objective = cp.Minimize(portfolio_variance)\n",
    "    optimization_problem = cp.Problem(objective, constraints)\n",
    "    \n",
    "    # Solve Optimization Problem\n",
    "    optimization_problem.solve()\n",
    "    \n",
    "    # Return Solution\n",
    "    if optimization_problem.status in [cp.OPTIMAL, cp.OPTIMAL_INACCURATE]:\n",
    "        return weights.value\n",
    "    else:\n",
    "        print('No solution found')\n",
    "        return None "
   ]
  },
  {
   "cell_type": "code",
   "execution_count": 5,
   "metadata": {},
   "outputs": [
    {
     "name": "stdout",
     "output_type": "stream",
     "text": [
      "[0.1960708  0.33860056 0.19563236 0.03650267 0.23319361]\n"
     ]
    }
   ],
   "source": [
    "average_positive_return = average_return[average_return > 0].mean()\n",
    "optimized_weights = optimize_portfolio(average_return, covariance_matrix, average_positive_return)\n",
    "print(optimized_weights)"
   ]
  },
  {
   "cell_type": "code",
   "execution_count": 6,
   "metadata": {},
   "outputs": [],
   "source": [
    "def calculate_performance(portfolio_weights, average_returns, covariance_matrix):\n",
    "    \"\"\" \n",
    "    Calculate the annualised performance metrics of the portfolio based on weights and mean and cov estimates.\n",
    "    \"\"\"\n",
    "    annual_portfolio_return = np.dot(portfolio_weights, average_returns) * 252\n",
    "    annual_portfolio_variance = np.dot(portfolio_weights, np.dot(covariance_matrix, portfolio_weights)) * 252\n",
    "    return annual_portfolio_return, annual_portfolio_variance\n",
    "\n",
    "def compute_portfolio_returns(returns_df, optimized_weights):\n",
    "    \"\"\"\n",
    "    Computes the portfolio returns over time, accounting for drift in weights over time.\n",
    "    \"\"\"\n",
    "    current_weights = optimized_weights.copy()\n",
    "    dates = returns_df.index\n",
    "    portfolio_returns = []  \n",
    "\n",
    "    for current_date in dates:\n",
    "        # Calculate the return for the current date by dot product of returns and current weights\n",
    "        portfolio_returns.append(np.dot(returns_df.loc[current_date], current_weights))\n",
    "        \n",
    "        # Recompute drifted weights based on days returns\n",
    "        drifted_weights = current_weights * (1 + returns_df.loc[current_date])\n",
    "        total_value = np.sum(drifted_weights)\n",
    "        current_weights = drifted_weights / total_value\n",
    "        \n",
    "    portfolio_returns_df = pd.Series(portfolio_returns, index=dates)\n",
    "    \n",
    "    return portfolio_returns_df"
   ]
  },
  {
   "cell_type": "code",
   "execution_count": 7,
   "metadata": {},
   "outputs": [
    {
     "name": "stdout",
     "output_type": "stream",
     "text": [
      "Predicted annual return: 14.03%\n",
      "Predicted annual variance: 0.066\n",
      "Annualised Portfolio Mean Return: 16.82%\n",
      "Annualised Portfolio Variance: 0.059\n"
     ]
    }
   ],
   "source": [
    "# Calculating performance of the optimized portfolio\n",
    "annual_return, annual_variance = calculate_performance(optimized_weights, average_return, covariance_matrix)\n",
    "print(f'Predicted annual return: {annual_return:.2%}')\n",
    "print(f'Predicted annual variance: {annual_variance:.3f}')\n",
    "\n",
    "# Analyzing performance on the testing set\n",
    "mv_portfolio_returns = compute_portfolio_returns(test_set, optimized_weights)\n",
    "print(f'Annualised Portfolio Mean Return: {mv_portfolio_returns.mean() * 252:.2%}')\n",
    "print(f'Annualised Portfolio Variance: {mv_portfolio_returns.var() * 252:.3f}')"
   ]
  },
  {
   "cell_type": "code",
   "execution_count": 8,
   "metadata": {},
   "outputs": [
    {
     "name": "stdout",
     "output_type": "stream",
     "text": [
      "[0.09035822 0.28880301 0.29381745 0.02033789 0.30668343]\n"
     ]
    }
   ],
   "source": [
    "def minimize_variance(covariance_matrix):\n",
    "    \"\"\"\n",
    "    Optimizes the vector of portfolio weights according to the second optimization problem in Assignment 2A\n",
    "    \"\"\"\n",
    "    # Define Decision Variables\n",
    "    num_assets= covariance_matrix.shape[0]\n",
    "    weights = cp.Variable(num_assets, nonneg=False)\n",
    "    \n",
    "    # Define Performance Metrics\n",
    "    portfolio_variance = cp.quad_form(weights, covariance_matrix)\n",
    "    \n",
    "    # Define Formulation\n",
    "    constraints = [cp.sum(weights) == 1]\n",
    "    objective = cp.Minimize(portfolio_variance)\n",
    "    problem = cp.Problem(objective, constraints)\n",
    "    \n",
    "    # Solve Optimization Problem\n",
    "    problem.solve()\n",
    "    \n",
    "    # Return solution\n",
    "    if problem.status in [cp.OPTIMAL, cp.OPTIMAL_INACCURATE]:\n",
    "        return weights.value\n",
    "    else:\n",
    "        print('No solution found')\n",
    "        return None \n",
    "    \n",
    "minimum_variance_weights = minimize_variance(covariance_matrix)\n",
    "print(minimum_variance_weights)"
   ]
  },
  {
   "cell_type": "code",
   "execution_count": 11,
   "metadata": {},
   "outputs": [
    {
     "name": "stdout",
     "output_type": "stream",
     "text": [
      "Predicted annual return: 10.79%\n",
      "Predicted annual variance: 0.064\n",
      "Annualised Portfolio Mean Return: 16.82%\n",
      "Annualised Portfolio Variance: 0.059\n"
     ]
    }
   ],
   "source": [
    "# Calculating performance of the minimum variance portfolio on the trainingset\n",
    "annual_return, annual_variance = calculate_performance(minimum_variance_weights, average_return, covariance_matrix)\n",
    "print(f'Predicted annual return: {annual_return:.2%}')\n",
    "print(f'Predicted annual variance: {annual_variance:.3f}')\n",
    "\n",
    "# Analyzing performance on the testing set\n",
    "min_var_portfolio_returns = compute_portfolio_returns(test_set, optimized_weights)\n",
    "print(f'Annualised Portfolio Mean Return: {min_var_portfolio_returns.mean() * 252:.2%}')\n",
    "print(f'Annualised Portfolio Variance: {min_var_portfolio_returns.var() * 252:.3f}')"
   ]
  }
 ],
 "metadata": {
  "kernelspec": {
   "display_name": "Python 3",
   "language": "python",
   "name": "python3"
  },
  "language_info": {
   "codemirror_mode": {
    "name": "ipython",
    "version": 3
   },
   "file_extension": ".py",
   "mimetype": "text/x-python",
   "name": "python",
   "nbconvert_exporter": "python",
   "pygments_lexer": "ipython3",
   "version": "3.9.6"
  }
 },
 "nbformat": 4,
 "nbformat_minor": 2
}
